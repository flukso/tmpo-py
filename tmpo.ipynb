{
 "cells": [
  {
   "cell_type": "code",
   "execution_count": null,
   "metadata": {},
   "outputs": [],
   "source": [
    "import pandas as pd\n",
    "import os\n",
    "import tmpo\n",
    "\n",
    "%matplotlib inline\n",
    "import matplotlib.pyplot as plt"
   ]
  },
  {
   "cell_type": "code",
   "execution_count": null,
   "metadata": {},
   "outputs": [],
   "source": [
    "token = \"b371402dc767cc83e41bc294b63f9586\"\n",
    "house = {\n",
    "    \"cellar\": {\n",
    "        \"electricity\": \"fed676021dacaaf6a12a8dda7685be34\"\n",
    "    }\n",
    "}"
   ]
  },
  {
   "cell_type": "markdown",
   "metadata": {},
   "source": [
    "## Init session, add sensors and sync"
   ]
  },
  {
   "cell_type": "code",
   "execution_count": null,
   "metadata": {},
   "outputs": [],
   "source": [
    "s = tmpo.Session(path=os.getcwd())\n",
    "for room in house:\n",
    "    for sensor in house[room]:\n",
    "        s.add(house[room][sensor], token)"
   ]
  },
  {
   "cell_type": "code",
   "execution_count": null,
   "metadata": {},
   "outputs": [],
   "source": [
    "s.debug = True"
   ]
  },
  {
   "cell_type": "code",
   "execution_count": null,
   "metadata": {},
   "outputs": [],
   "source": [
    "s.sync()"
   ]
  },
  {
   "cell_type": "markdown",
   "metadata": {},
   "source": [
    "## Get info about sensor"
   ]
  },
  {
   "cell_type": "code",
   "execution_count": null,
   "metadata": {},
   "outputs": [],
   "source": [
    "sensor = house[room][\"electricity\"]\n",
    "\n",
    "type, data_type, subtype = s.get_types(sensor)\n",
    "unit = s.get_unit(sensor)\n",
    "\n",
    "print(type, data_type, subtype, unit)"
   ]
  },
  {
   "cell_type": "markdown",
   "metadata": {},
   "source": [
    "## Get raw data"
   ]
  },
  {
   "cell_type": "code",
   "execution_count": null,
   "metadata": {},
   "outputs": [],
   "source": [
    "s.debug = False"
   ]
  },
  {
   "cell_type": "code",
   "execution_count": null,
   "metadata": {},
   "outputs": [],
   "source": [
    "start = pd.Timestamp('20160101')\n",
    "end = pd.Timestamp('20160501')"
   ]
  },
  {
   "cell_type": "code",
   "execution_count": null,
   "metadata": {},
   "outputs": [],
   "source": [
    "df = s.dataframe(sids=[house[room][\"electricity\"]], head=start, tail=end)"
   ]
  },
  {
   "cell_type": "code",
   "execution_count": null,
   "metadata": {
    "scrolled": false
   },
   "outputs": [],
   "source": [
    "room = \"cellar\"\n",
    "plt.figure(figsize=(16,5))\n",
    "ax1=plt.subplot()\n",
    "ax1.grid()\n",
    "ax1.set_ylabel(u'Wh')\n",
    "plt.title(room + \" electricity\")\n",
    "df.plot(ax=ax1)"
   ]
  },
  {
   "cell_type": "markdown",
   "metadata": {
    "collapsed": true
   },
   "source": [
    "## Get resampled data"
   ]
  },
  {
   "cell_type": "markdown",
   "metadata": {},
   "source": [
    "The difference between raw and resampled data is that raw data has data with an uneven time axis. This makes it difficult to calculate power values or flow rates."
   ]
  },
  {
   "cell_type": "code",
   "execution_count": null,
   "metadata": {},
   "outputs": [],
   "source": [
    "df = s.get_data(sids=[house[room][\"electricity\"]], head=start, tail=end, resolution='1h')"
   ]
  },
  {
   "cell_type": "markdown",
   "metadata": {},
   "source": [
    "As resolution you can pick from these resolutions, and you can precede them with a number:\n",
    "* B   business day frequency\n",
    "* C   custom business day frequency (experimental)\n",
    "* D   calendar day frequency\n",
    "* W   weekly frequency\n",
    "* M   month end frequency\n",
    "* BM  business month end frequency\n",
    "* MS  month start frequency\n",
    "* BMS business month start frequency\n",
    "* Q   quarter end frequency\n",
    "* BQ  business quarter endfrequency\n",
    "* QS  quarter start frequency\n",
    "* BQS business quarter start frequency\n",
    "* A   year end frequency\n",
    "* BA  business year end frequency\n",
    "* AS  year start frequency\n",
    "* BAS business year start frequency\n",
    "* H   hourly frequency\n",
    "* T   minutely frequency\n",
    "* S   secondly frequency\n",
    "* L   milliseconds\n",
    "* U   microseconds"
   ]
  },
  {
   "cell_type": "code",
   "execution_count": null,
   "metadata": {},
   "outputs": [],
   "source": [
    "room = \"cellar\"\n",
    "plt.figure(figsize=(16,5))\n",
    "ax1=plt.subplot()\n",
    "ax1.grid()\n",
    "ax1.set_ylabel(u'Wh')\n",
    "plt.title(room + \" electricity\")\n",
    "df.plot(ax=ax1)"
   ]
  },
  {
   "cell_type": "markdown",
   "metadata": {},
   "source": [
    "Now you can easily calculate power by taking the difference between values."
   ]
  },
  {
   "cell_type": "code",
   "execution_count": null,
   "metadata": {},
   "outputs": [],
   "source": [
    "P = df.diff()"
   ]
  },
  {
   "cell_type": "code",
   "execution_count": null,
   "metadata": {},
   "outputs": [],
   "source": [
    "room = \"cellar\"\n",
    "plt.figure(figsize=(16,5))\n",
    "ax1=plt.subplot()\n",
    "ax1.grid()\n",
    "ax1.set_ylabel(u'W')\n",
    "plt.title(room + \" electricity\")\n",
    "P.plot(ax=ax1)"
   ]
  },
  {
   "cell_type": "markdown",
   "metadata": {},
   "source": [
    "Mind your dimensions! Since we had Wh values resampled to hourly basis, the `diff` gets us Wh/h, or W! If you choose another resolution you need to bring a factor into account."
   ]
  },
  {
   "cell_type": "markdown",
   "metadata": {},
   "source": [
    "## Export to CSV, Excel..."
   ]
  },
  {
   "cell_type": "code",
   "execution_count": null,
   "metadata": {},
   "outputs": [],
   "source": [
    "P.to_csv('tmpo_example.csv')"
   ]
  },
  {
   "cell_type": "code",
   "execution_count": null,
   "metadata": {},
   "outputs": [],
   "source": [
    "P.to_excel('tmpo_example.xlsx')"
   ]
  },
  {
   "cell_type": "markdown",
   "metadata": {},
   "source": [
    "Pandas has many other export methods, see https://pandas.pydata.org/pandas-docs/stable/io.html"
   ]
  },
  {
   "cell_type": "code",
   "execution_count": null,
   "metadata": {},
   "outputs": [],
   "source": []
  }
 ],
 "metadata": {
  "kernelspec": {
   "display_name": "Python 3",
   "language": "python",
   "name": "python3"
  },
  "language_info": {
   "codemirror_mode": {
    "name": "ipython",
    "version": 3
   },
   "file_extension": ".py",
   "mimetype": "text/x-python",
   "name": "python",
   "nbconvert_exporter": "python",
   "pygments_lexer": "ipython3",
   "version": "3.5.0"
  }
 },
 "nbformat": 4,
 "nbformat_minor": 1
}
